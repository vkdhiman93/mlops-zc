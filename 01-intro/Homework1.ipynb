{
  "cells": [
    {
      "cell_type": "code",
      "execution_count": null,
      "id": "bHE6H_gvcZZt",
      "metadata": {
        "colab": {
          "base_uri": "https://localhost:8080/"
        },
        "id": "bHE6H_gvcZZt",
        "outputId": "bd4e7b00-c5dd-4bcd-d183-8a5959cade8e"
      },
      "outputs": [
        {
          "name": "stdout",
          "output_type": "stream",
          "text": [
            "Mounted at /content/drive\n"
          ]
        }
      ],
      "source": [
        "from google.colab import drive\n",
        "drive.mount('/content/drive')"
      ]
    },
    {
      "cell_type": "code",
      "execution_count": null,
      "id": "ZJGWYLI-cfAB",
      "metadata": {
        "colab": {
          "base_uri": "https://localhost:8080/"
        },
        "id": "ZJGWYLI-cfAB",
        "outputId": "30a2f4d6-14e3-4a4c-f4e5-983dcc3187de"
      },
      "outputs": [
        {
          "name": "stdout",
          "output_type": "stream",
          "text": [
            "/content/drive/MyDrive/mlops_zc/mlops-zc/01-intro\n"
          ]
        }
      ],
      "source": [
        "cd /content/drive/MyDrive/mlops_zc/mlops-zc/01-intro"
      ]
    },
    {
      "cell_type": "markdown",
      "id": "2b547f7b",
      "metadata": {},
      "source": [
        "#################################################################################################"
      ]
    },
    {
      "cell_type": "code",
      "execution_count": 1,
      "id": "afa6e699-8497-4b66-8eb3-b0a0d2889cd1",
      "metadata": {
        "id": "afa6e699-8497-4b66-8eb3-b0a0d2889cd1"
      },
      "outputs": [],
      "source": [
        "import pandas as pd\n",
        "import numpy as np\n",
        "\n",
        "from sklearn.feature_extraction import DictVectorizer\n",
        "from sklearn.linear_model import LinearRegression\n",
        "from sklearn.metrics import mean_squared_error\n",
        "\n",
        "import seaborn as sns\n",
        "import matplotlib.pyplot as plt\n",
        "\n",
        "import warnings\n",
        "warnings.filterwarnings('ignore')"
      ]
    },
    {
      "cell_type": "markdown",
      "id": "771d9317",
      "metadata": {
        "id": "771d9317"
      },
      "source": [
        "## Q1. Downloading the data\n",
        "We'll use the same NYC taxi dataset, but instead of \"Green Taxi Trip Records\", we'll use \"Yellow Taxi Trip Records\".\n",
        "\n",
        "Download the data for January and February 2023.\n",
        "\n",
        "Read the data for January. How many columns are there?\n",
        "\n",
        "16\n",
        "\n",
        "17\n",
        "\n",
        "18\n",
        "\n",
        "19"
      ]
    },
    {
      "cell_type": "code",
      "execution_count": 2,
      "id": "fcbe7e26-d223-4b29-9b86-559aae9c9318",
      "metadata": {
        "colab": {
          "base_uri": "https://localhost:8080/",
          "height": 443
        },
        "id": "fcbe7e26-d223-4b29-9b86-559aae9c9318",
        "outputId": "662810bb-7ad0-48ba-f76a-64fec68b968a"
      },
      "outputs": [
        {
          "data": {
            "text/html": [
              "<div>\n",
              "<style scoped>\n",
              "    .dataframe tbody tr th:only-of-type {\n",
              "        vertical-align: middle;\n",
              "    }\n",
              "\n",
              "    .dataframe tbody tr th {\n",
              "        vertical-align: top;\n",
              "    }\n",
              "\n",
              "    .dataframe thead th {\n",
              "        text-align: right;\n",
              "    }\n",
              "</style>\n",
              "<table border=\"1\" class=\"dataframe\">\n",
              "  <thead>\n",
              "    <tr style=\"text-align: right;\">\n",
              "      <th></th>\n",
              "      <th>VendorID</th>\n",
              "      <th>tpep_pickup_datetime</th>\n",
              "      <th>tpep_dropoff_datetime</th>\n",
              "      <th>passenger_count</th>\n",
              "      <th>trip_distance</th>\n",
              "      <th>RatecodeID</th>\n",
              "      <th>store_and_fwd_flag</th>\n",
              "      <th>PULocationID</th>\n",
              "      <th>DOLocationID</th>\n",
              "      <th>payment_type</th>\n",
              "      <th>fare_amount</th>\n",
              "      <th>extra</th>\n",
              "      <th>mta_tax</th>\n",
              "      <th>tip_amount</th>\n",
              "      <th>tolls_amount</th>\n",
              "      <th>improvement_surcharge</th>\n",
              "      <th>total_amount</th>\n",
              "      <th>congestion_surcharge</th>\n",
              "      <th>airport_fee</th>\n",
              "    </tr>\n",
              "  </thead>\n",
              "  <tbody>\n",
              "    <tr>\n",
              "      <th>0</th>\n",
              "      <td>2</td>\n",
              "      <td>2023-01-01 00:32:10</td>\n",
              "      <td>2023-01-01 00:40:36</td>\n",
              "      <td>1.0</td>\n",
              "      <td>0.97</td>\n",
              "      <td>1.0</td>\n",
              "      <td>N</td>\n",
              "      <td>161</td>\n",
              "      <td>141</td>\n",
              "      <td>2</td>\n",
              "      <td>9.30</td>\n",
              "      <td>1.00</td>\n",
              "      <td>0.5</td>\n",
              "      <td>0.00</td>\n",
              "      <td>0.0</td>\n",
              "      <td>1.0</td>\n",
              "      <td>14.30</td>\n",
              "      <td>2.5</td>\n",
              "      <td>0.00</td>\n",
              "    </tr>\n",
              "    <tr>\n",
              "      <th>1</th>\n",
              "      <td>2</td>\n",
              "      <td>2023-01-01 00:55:08</td>\n",
              "      <td>2023-01-01 01:01:27</td>\n",
              "      <td>1.0</td>\n",
              "      <td>1.10</td>\n",
              "      <td>1.0</td>\n",
              "      <td>N</td>\n",
              "      <td>43</td>\n",
              "      <td>237</td>\n",
              "      <td>1</td>\n",
              "      <td>7.90</td>\n",
              "      <td>1.00</td>\n",
              "      <td>0.5</td>\n",
              "      <td>4.00</td>\n",
              "      <td>0.0</td>\n",
              "      <td>1.0</td>\n",
              "      <td>16.90</td>\n",
              "      <td>2.5</td>\n",
              "      <td>0.00</td>\n",
              "    </tr>\n",
              "    <tr>\n",
              "      <th>2</th>\n",
              "      <td>2</td>\n",
              "      <td>2023-01-01 00:25:04</td>\n",
              "      <td>2023-01-01 00:37:49</td>\n",
              "      <td>1.0</td>\n",
              "      <td>2.51</td>\n",
              "      <td>1.0</td>\n",
              "      <td>N</td>\n",
              "      <td>48</td>\n",
              "      <td>238</td>\n",
              "      <td>1</td>\n",
              "      <td>14.90</td>\n",
              "      <td>1.00</td>\n",
              "      <td>0.5</td>\n",
              "      <td>15.00</td>\n",
              "      <td>0.0</td>\n",
              "      <td>1.0</td>\n",
              "      <td>34.90</td>\n",
              "      <td>2.5</td>\n",
              "      <td>0.00</td>\n",
              "    </tr>\n",
              "    <tr>\n",
              "      <th>3</th>\n",
              "      <td>1</td>\n",
              "      <td>2023-01-01 00:03:48</td>\n",
              "      <td>2023-01-01 00:13:25</td>\n",
              "      <td>0.0</td>\n",
              "      <td>1.90</td>\n",
              "      <td>1.0</td>\n",
              "      <td>N</td>\n",
              "      <td>138</td>\n",
              "      <td>7</td>\n",
              "      <td>1</td>\n",
              "      <td>12.10</td>\n",
              "      <td>7.25</td>\n",
              "      <td>0.5</td>\n",
              "      <td>0.00</td>\n",
              "      <td>0.0</td>\n",
              "      <td>1.0</td>\n",
              "      <td>20.85</td>\n",
              "      <td>0.0</td>\n",
              "      <td>1.25</td>\n",
              "    </tr>\n",
              "    <tr>\n",
              "      <th>4</th>\n",
              "      <td>2</td>\n",
              "      <td>2023-01-01 00:10:29</td>\n",
              "      <td>2023-01-01 00:21:19</td>\n",
              "      <td>1.0</td>\n",
              "      <td>1.43</td>\n",
              "      <td>1.0</td>\n",
              "      <td>N</td>\n",
              "      <td>107</td>\n",
              "      <td>79</td>\n",
              "      <td>1</td>\n",
              "      <td>11.40</td>\n",
              "      <td>1.00</td>\n",
              "      <td>0.5</td>\n",
              "      <td>3.28</td>\n",
              "      <td>0.0</td>\n",
              "      <td>1.0</td>\n",
              "      <td>19.68</td>\n",
              "      <td>2.5</td>\n",
              "      <td>0.00</td>\n",
              "    </tr>\n",
              "    <tr>\n",
              "      <th>...</th>\n",
              "      <td>...</td>\n",
              "      <td>...</td>\n",
              "      <td>...</td>\n",
              "      <td>...</td>\n",
              "      <td>...</td>\n",
              "      <td>...</td>\n",
              "      <td>...</td>\n",
              "      <td>...</td>\n",
              "      <td>...</td>\n",
              "      <td>...</td>\n",
              "      <td>...</td>\n",
              "      <td>...</td>\n",
              "      <td>...</td>\n",
              "      <td>...</td>\n",
              "      <td>...</td>\n",
              "      <td>...</td>\n",
              "      <td>...</td>\n",
              "      <td>...</td>\n",
              "      <td>...</td>\n",
              "    </tr>\n",
              "    <tr>\n",
              "      <th>3066761</th>\n",
              "      <td>2</td>\n",
              "      <td>2023-01-31 23:58:34</td>\n",
              "      <td>2023-02-01 00:12:33</td>\n",
              "      <td>NaN</td>\n",
              "      <td>3.05</td>\n",
              "      <td>NaN</td>\n",
              "      <td>None</td>\n",
              "      <td>107</td>\n",
              "      <td>48</td>\n",
              "      <td>0</td>\n",
              "      <td>15.80</td>\n",
              "      <td>0.00</td>\n",
              "      <td>0.5</td>\n",
              "      <td>3.96</td>\n",
              "      <td>0.0</td>\n",
              "      <td>1.0</td>\n",
              "      <td>23.76</td>\n",
              "      <td>NaN</td>\n",
              "      <td>NaN</td>\n",
              "    </tr>\n",
              "    <tr>\n",
              "      <th>3066762</th>\n",
              "      <td>2</td>\n",
              "      <td>2023-01-31 23:31:09</td>\n",
              "      <td>2023-01-31 23:50:36</td>\n",
              "      <td>NaN</td>\n",
              "      <td>5.80</td>\n",
              "      <td>NaN</td>\n",
              "      <td>None</td>\n",
              "      <td>112</td>\n",
              "      <td>75</td>\n",
              "      <td>0</td>\n",
              "      <td>22.43</td>\n",
              "      <td>0.00</td>\n",
              "      <td>0.5</td>\n",
              "      <td>2.64</td>\n",
              "      <td>0.0</td>\n",
              "      <td>1.0</td>\n",
              "      <td>29.07</td>\n",
              "      <td>NaN</td>\n",
              "      <td>NaN</td>\n",
              "    </tr>\n",
              "    <tr>\n",
              "      <th>3066763</th>\n",
              "      <td>2</td>\n",
              "      <td>2023-01-31 23:01:05</td>\n",
              "      <td>2023-01-31 23:25:36</td>\n",
              "      <td>NaN</td>\n",
              "      <td>4.67</td>\n",
              "      <td>NaN</td>\n",
              "      <td>None</td>\n",
              "      <td>114</td>\n",
              "      <td>239</td>\n",
              "      <td>0</td>\n",
              "      <td>17.61</td>\n",
              "      <td>0.00</td>\n",
              "      <td>0.5</td>\n",
              "      <td>5.32</td>\n",
              "      <td>0.0</td>\n",
              "      <td>1.0</td>\n",
              "      <td>26.93</td>\n",
              "      <td>NaN</td>\n",
              "      <td>NaN</td>\n",
              "    </tr>\n",
              "    <tr>\n",
              "      <th>3066764</th>\n",
              "      <td>2</td>\n",
              "      <td>2023-01-31 23:40:00</td>\n",
              "      <td>2023-01-31 23:53:00</td>\n",
              "      <td>NaN</td>\n",
              "      <td>3.15</td>\n",
              "      <td>NaN</td>\n",
              "      <td>None</td>\n",
              "      <td>230</td>\n",
              "      <td>79</td>\n",
              "      <td>0</td>\n",
              "      <td>18.15</td>\n",
              "      <td>0.00</td>\n",
              "      <td>0.5</td>\n",
              "      <td>4.43</td>\n",
              "      <td>0.0</td>\n",
              "      <td>1.0</td>\n",
              "      <td>26.58</td>\n",
              "      <td>NaN</td>\n",
              "      <td>NaN</td>\n",
              "    </tr>\n",
              "    <tr>\n",
              "      <th>3066765</th>\n",
              "      <td>2</td>\n",
              "      <td>2023-01-31 23:07:32</td>\n",
              "      <td>2023-01-31 23:21:56</td>\n",
              "      <td>NaN</td>\n",
              "      <td>2.85</td>\n",
              "      <td>NaN</td>\n",
              "      <td>None</td>\n",
              "      <td>262</td>\n",
              "      <td>143</td>\n",
              "      <td>0</td>\n",
              "      <td>15.97</td>\n",
              "      <td>0.00</td>\n",
              "      <td>0.5</td>\n",
              "      <td>2.00</td>\n",
              "      <td>0.0</td>\n",
              "      <td>1.0</td>\n",
              "      <td>21.97</td>\n",
              "      <td>NaN</td>\n",
              "      <td>NaN</td>\n",
              "    </tr>\n",
              "  </tbody>\n",
              "</table>\n",
              "<p>3066766 rows × 19 columns</p>\n",
              "</div>"
            ],
            "text/plain": [
              "         VendorID tpep_pickup_datetime tpep_dropoff_datetime  passenger_count  \\\n",
              "0               2  2023-01-01 00:32:10   2023-01-01 00:40:36              1.0   \n",
              "1               2  2023-01-01 00:55:08   2023-01-01 01:01:27              1.0   \n",
              "2               2  2023-01-01 00:25:04   2023-01-01 00:37:49              1.0   \n",
              "3               1  2023-01-01 00:03:48   2023-01-01 00:13:25              0.0   \n",
              "4               2  2023-01-01 00:10:29   2023-01-01 00:21:19              1.0   \n",
              "...           ...                  ...                   ...              ...   \n",
              "3066761         2  2023-01-31 23:58:34   2023-02-01 00:12:33              NaN   \n",
              "3066762         2  2023-01-31 23:31:09   2023-01-31 23:50:36              NaN   \n",
              "3066763         2  2023-01-31 23:01:05   2023-01-31 23:25:36              NaN   \n",
              "3066764         2  2023-01-31 23:40:00   2023-01-31 23:53:00              NaN   \n",
              "3066765         2  2023-01-31 23:07:32   2023-01-31 23:21:56              NaN   \n",
              "\n",
              "         trip_distance  RatecodeID store_and_fwd_flag  PULocationID  \\\n",
              "0                 0.97         1.0                  N           161   \n",
              "1                 1.10         1.0                  N            43   \n",
              "2                 2.51         1.0                  N            48   \n",
              "3                 1.90         1.0                  N           138   \n",
              "4                 1.43         1.0                  N           107   \n",
              "...                ...         ...                ...           ...   \n",
              "3066761           3.05         NaN               None           107   \n",
              "3066762           5.80         NaN               None           112   \n",
              "3066763           4.67         NaN               None           114   \n",
              "3066764           3.15         NaN               None           230   \n",
              "3066765           2.85         NaN               None           262   \n",
              "\n",
              "         DOLocationID  payment_type  fare_amount  extra  mta_tax  tip_amount  \\\n",
              "0                 141             2         9.30   1.00      0.5        0.00   \n",
              "1                 237             1         7.90   1.00      0.5        4.00   \n",
              "2                 238             1        14.90   1.00      0.5       15.00   \n",
              "3                   7             1        12.10   7.25      0.5        0.00   \n",
              "4                  79             1        11.40   1.00      0.5        3.28   \n",
              "...               ...           ...          ...    ...      ...         ...   \n",
              "3066761            48             0        15.80   0.00      0.5        3.96   \n",
              "3066762            75             0        22.43   0.00      0.5        2.64   \n",
              "3066763           239             0        17.61   0.00      0.5        5.32   \n",
              "3066764            79             0        18.15   0.00      0.5        4.43   \n",
              "3066765           143             0        15.97   0.00      0.5        2.00   \n",
              "\n",
              "         tolls_amount  improvement_surcharge  total_amount  \\\n",
              "0                 0.0                    1.0         14.30   \n",
              "1                 0.0                    1.0         16.90   \n",
              "2                 0.0                    1.0         34.90   \n",
              "3                 0.0                    1.0         20.85   \n",
              "4                 0.0                    1.0         19.68   \n",
              "...               ...                    ...           ...   \n",
              "3066761           0.0                    1.0         23.76   \n",
              "3066762           0.0                    1.0         29.07   \n",
              "3066763           0.0                    1.0         26.93   \n",
              "3066764           0.0                    1.0         26.58   \n",
              "3066765           0.0                    1.0         21.97   \n",
              "\n",
              "         congestion_surcharge  airport_fee  \n",
              "0                         2.5         0.00  \n",
              "1                         2.5         0.00  \n",
              "2                         2.5         0.00  \n",
              "3                         0.0         1.25  \n",
              "4                         2.5         0.00  \n",
              "...                       ...          ...  \n",
              "3066761                   NaN          NaN  \n",
              "3066762                   NaN          NaN  \n",
              "3066763                   NaN          NaN  \n",
              "3066764                   NaN          NaN  \n",
              "3066765                   NaN          NaN  \n",
              "\n",
              "[3066766 rows x 19 columns]"
            ]
          },
          "execution_count": 2,
          "metadata": {},
          "output_type": "execute_result"
        }
      ],
      "source": [
        "df = pd.read_parquet(\"yellow_tripdata_2023-01.parquet\")\n",
        "df"
      ]
    },
    {
      "cell_type": "code",
      "execution_count": 3,
      "id": "1b301998",
      "metadata": {
        "colab": {
          "base_uri": "https://localhost:8080/"
        },
        "id": "1b301998",
        "outputId": "1b8ffea4-88f4-4bb8-b2b7-a5c19d684f07"
      },
      "outputs": [
        {
          "data": {
            "text/plain": [
              "19"
            ]
          },
          "execution_count": 3,
          "metadata": {},
          "output_type": "execute_result"
        }
      ],
      "source": [
        "df.shape[1]"
      ]
    },
    {
      "cell_type": "markdown",
      "id": "bc705f55",
      "metadata": {
        "id": "bc705f55"
      },
      "source": [
        "**Answer** - 19 columns"
      ]
    },
    {
      "cell_type": "markdown",
      "id": "785d9c55",
      "metadata": {
        "id": "785d9c55"
      },
      "source": [
        "## Q2. Computing duration\n",
        "\n",
        "Now let's compute the `duration` variable. It should contain the duration of a ride in minutes.\n",
        "\n",
        "What's the standard deviation of the trips duration in January?\n",
        "\n",
        "* 32.59\n",
        "* 42.59\n",
        "* 52.59\n",
        "* 62.59\n"
      ]
    },
    {
      "cell_type": "code",
      "execution_count": 4,
      "id": "031e43da-04f8-4b2c-94f2-bfd0a8559e0a",
      "metadata": {
        "id": "031e43da-04f8-4b2c-94f2-bfd0a8559e0a"
      },
      "outputs": [],
      "source": [
        "df.tpep_dropoff_datetime = pd.to_datetime(df.tpep_dropoff_datetime)\n",
        "df.tpep_pickup_datetime\t= pd.to_datetime(df.tpep_pickup_datetime)"
      ]
    },
    {
      "cell_type": "code",
      "execution_count": 5,
      "id": "04ee16e3-7316-4415-95ad-9640adb1c8bf",
      "metadata": {
        "id": "04ee16e3-7316-4415-95ad-9640adb1c8bf"
      },
      "outputs": [],
      "source": [
        "df[\"duration\"] = df.tpep_dropoff_datetime - df.tpep_pickup_datetime"
      ]
    },
    {
      "cell_type": "code",
      "execution_count": 6,
      "id": "6329d824-01d4-4f01-aae1-212cae6ec723",
      "metadata": {
        "id": "6329d824-01d4-4f01-aae1-212cae6ec723"
      },
      "outputs": [],
      "source": [
        "df[\"duration\"] = df[\"duration\"].apply(lambda x: x.total_seconds()/60)"
      ]
    },
    {
      "cell_type": "code",
      "execution_count": 7,
      "id": "ebb0c228-883e-4a7d-b46a-d02b5fa812b9",
      "metadata": {
        "colab": {
          "base_uri": "https://localhost:8080/"
        },
        "id": "ebb0c228-883e-4a7d-b46a-d02b5fa812b9",
        "outputId": "8b116916-c96c-4b5e-b4bd-78ca7f3c5fbc"
      },
      "outputs": [
        {
          "data": {
            "text/plain": [
              "count    3.066766e+06\n",
              "mean     1.566900e+01\n",
              "std      4.259435e+01\n",
              "min     -2.920000e+01\n",
              "25%      7.116667e+00\n",
              "50%      1.151667e+01\n",
              "75%      1.830000e+01\n",
              "max      1.002918e+04\n",
              "Name: duration, dtype: float64"
            ]
          },
          "execution_count": 7,
          "metadata": {},
          "output_type": "execute_result"
        }
      ],
      "source": [
        "df.duration.describe()"
      ]
    },
    {
      "cell_type": "markdown",
      "id": "1d69a082",
      "metadata": {
        "id": "1d69a082"
      },
      "source": [
        "**Answer** - 42.59"
      ]
    },
    {
      "cell_type": "markdown",
      "id": "df661761",
      "metadata": {
        "id": "df661761"
      },
      "source": [
        "## Q3. Dropping outliers\n",
        "\n",
        "Next, we need to check the distribution of the `duration` variable. There are some outliers. Let's remove them and keep only the records where the duration was between 1 and 60 minutes (inclusive).\n",
        "\n",
        "What fraction of the records left after you dropped the outliers?\n",
        "\n",
        "* 90%\n",
        "* 92%\n",
        "* 95%\n",
        "* 98%"
      ]
    },
    {
      "cell_type": "code",
      "execution_count": 8,
      "id": "c0a998e8",
      "metadata": {
        "colab": {
          "base_uri": "https://localhost:8080/"
        },
        "id": "c0a998e8",
        "outputId": "febc99c8-882e-473f-b7e4-7eafdccf87a5"
      },
      "outputs": [
        {
          "data": {
            "text/plain": [
              "(3009173, 20)"
            ]
          },
          "execution_count": 8,
          "metadata": {},
          "output_type": "execute_result"
        }
      ],
      "source": [
        "dfh = df[(df.duration >= 1) & (df.duration <= 60)]\n",
        "dfh.shape"
      ]
    },
    {
      "cell_type": "code",
      "execution_count": 9,
      "id": "d186af3a",
      "metadata": {
        "colab": {
          "base_uri": "https://localhost:8080/"
        },
        "id": "d186af3a",
        "outputId": "7e72dd36-add0-439d-92ff-812e1c1ec3ed"
      },
      "outputs": [
        {
          "data": {
            "text/plain": [
              "98.1220282212598"
            ]
          },
          "execution_count": 9,
          "metadata": {},
          "output_type": "execute_result"
        }
      ],
      "source": [
        "per_result = (dfh.shape[0]/df.shape[0])*100\n",
        "per_result"
      ]
    },
    {
      "cell_type": "markdown",
      "id": "c0846c97",
      "metadata": {
        "id": "c0846c97"
      },
      "source": [
        "**Answer** - 98%"
      ]
    },
    {
      "cell_type": "markdown",
      "id": "3f324555",
      "metadata": {
        "id": "3f324555"
      },
      "source": [
        "## Q4. One-hot encoding\n",
        "\n",
        "Let's apply one-hot encoding to the pickup and dropoff location IDs. We'll use only these two features for our model.\n",
        "\n",
        "* Turn the dataframe into a list of dictionaries (remember to re-cast the ids to strings - otherwise it will\n",
        "  label encode them)\n",
        "* Fit a dictionary vectorizer\n",
        "* Get a feature matrix from it\n",
        "\n",
        "What's the dimensionality of this matrix (number of columns)?\n",
        "\n",
        "* 2\n",
        "* 155\n",
        "* 345\n",
        "* 515\n",
        "* 715"
      ]
    },
    {
      "cell_type": "code",
      "execution_count": 10,
      "id": "f0755aae-cae0-4868-a274-83fa1d8e0c4f",
      "metadata": {
        "id": "f0755aae-cae0-4868-a274-83fa1d8e0c4f"
      },
      "outputs": [],
      "source": [
        "categorical = ['PULocationID', 'DOLocationID']\n",
        "numerical = ['trip_distance']"
      ]
    },
    {
      "cell_type": "code",
      "execution_count": 11,
      "id": "cd567319-51d2-413e-9b87-1be8f6c81d87",
      "metadata": {
        "id": "cd567319-51d2-413e-9b87-1be8f6c81d87"
      },
      "outputs": [],
      "source": [
        "dfh[categorical] = dfh[categorical].astype(str)"
      ]
    },
    {
      "cell_type": "code",
      "execution_count": 12,
      "id": "507b9c9d-1258-48d2-a023-a0f328097e1f",
      "metadata": {
        "colab": {
          "base_uri": "https://localhost:8080/"
        },
        "id": "507b9c9d-1258-48d2-a023-a0f328097e1f",
        "outputId": "a434868d-68cd-44ae-f635-70f8aa6e933c"
      },
      "outputs": [
        {
          "data": {
            "text/plain": [
              "3009173"
            ]
          },
          "execution_count": 12,
          "metadata": {},
          "output_type": "execute_result"
        }
      ],
      "source": [
        "train_dicts = dfh[categorical].to_dict(orient='records')\n",
        "len(train_dicts)"
      ]
    },
    {
      "cell_type": "code",
      "execution_count": 13,
      "id": "c93e67bf-1d71-4571-8cd4-24818b7b99e9",
      "metadata": {
        "id": "c93e67bf-1d71-4571-8cd4-24818b7b99e9"
      },
      "outputs": [],
      "source": [
        "dv = DictVectorizer()\n",
        "X_train = dv.fit_transform(train_dicts)"
      ]
    },
    {
      "cell_type": "code",
      "execution_count": 14,
      "id": "60334dd5-ca0e-4517-a5a3-e607cd1e57c0",
      "metadata": {
        "colab": {
          "base_uri": "https://localhost:8080/"
        },
        "id": "60334dd5-ca0e-4517-a5a3-e607cd1e57c0",
        "outputId": "5fc04978-0578-4754-a495-c5355078a5b4"
      },
      "outputs": [
        {
          "data": {
            "text/plain": [
              "(3009173, 515)"
            ]
          },
          "execution_count": 14,
          "metadata": {},
          "output_type": "execute_result"
        }
      ],
      "source": [
        "X_train.shape"
      ]
    },
    {
      "cell_type": "markdown",
      "id": "c760072f",
      "metadata": {
        "id": "c760072f"
      },
      "source": [
        "**Answer** - 515 columns"
      ]
    },
    {
      "cell_type": "markdown",
      "id": "6295fc7b-837d-46fc-bde2-b2fba7f6bd52",
      "metadata": {
        "id": "6295fc7b-837d-46fc-bde2-b2fba7f6bd52"
      },
      "source": [
        "## Q5. Training a model\n",
        "\n",
        "Now let's use the feature matrix from the previous step to train a model.\n",
        "\n",
        "* Train a plain linear regression model with default parameters, where duration is the response variable\n",
        "* Calculate the RMSE of the model on the training data\n",
        "\n",
        "What's the RMSE on train?\n",
        "\n",
        "* 3.64\n",
        "* 7.64\n",
        "* 11.64\n",
        "* 16.64\n"
      ]
    },
    {
      "cell_type": "code",
      "execution_count": 15,
      "id": "1a8539f1-4d9a-477a-a61b-336ca98d890f",
      "metadata": {
        "id": "1a8539f1-4d9a-477a-a61b-336ca98d890f"
      },
      "outputs": [],
      "source": [
        "target = 'duration'\n",
        "y_train = dfh[target].values"
      ]
    },
    {
      "cell_type": "code",
      "execution_count": 16,
      "id": "fb3c214c-fae3-4a19-b1b1-2f76ecfacbb6",
      "metadata": {
        "colab": {
          "base_uri": "https://localhost:8080/"
        },
        "id": "fb3c214c-fae3-4a19-b1b1-2f76ecfacbb6",
        "outputId": "45f21473-da4a-4616-b402-a83d08d9d762"
      },
      "outputs": [
        {
          "name": "stdout",
          "output_type": "stream",
          "text": [
            "Train RMSE: 7.6492619533128225\n"
          ]
        }
      ],
      "source": [
        "lr = LinearRegression()\n",
        "lr.fit(X_train, y_train)\n",
        "\n",
        "y_pred = lr.predict(X_train)\n",
        "\n",
        "rmse = np.sqrt(mean_squared_error(y_train, y_pred))\n",
        "print(f'Train RMSE: {rmse}')"
      ]
    },
    {
      "cell_type": "markdown",
      "id": "4831f3c3",
      "metadata": {
        "id": "4831f3c3"
      },
      "source": [
        "**Answer** - Train RMSE: 7.64"
      ]
    },
    {
      "cell_type": "code",
      "execution_count": 17,
      "id": "48cfad33",
      "metadata": {
        "id": "48cfad33"
      },
      "outputs": [],
      "source": [
        "import pickle\n",
        "\n",
        "with open('lr_model.pkl', 'wb') as file:\n",
        "    pickle.dump(lr, file)\n"
      ]
    },
    {
      "cell_type": "markdown",
      "id": "d9e808d8",
      "metadata": {
        "id": "d9e808d8"
      },
      "source": [
        "## Q6. Evaluating the model\n",
        "\n",
        "Now let's apply this model to the validation dataset (February 2023).\n",
        "\n",
        "What's the RMSE on validation?\n",
        "\n",
        "* 3.81\n",
        "* 7.81\n",
        "* 11.81\n",
        "* 16.81"
      ]
    },
    {
      "cell_type": "code",
      "execution_count": 18,
      "id": "54ddd1e8-73fa-4f59-92c8-8878808fa792",
      "metadata": {
        "colab": {
          "base_uri": "https://localhost:8080/"
        },
        "id": "54ddd1e8-73fa-4f59-92c8-8878808fa792",
        "outputId": "2cc87b38-62b4-4fb0-af8b-a2d8a00978cf"
      },
      "outputs": [
        {
          "data": {
            "text/plain": [
              "(2913955, 19)"
            ]
          },
          "execution_count": 18,
          "metadata": {},
          "output_type": "execute_result"
        }
      ],
      "source": [
        "# feb data\n",
        "dfv = df = pd.read_parquet(\"yellow_tripdata_2023-02.parquet\")\n",
        "dfv.shape"
      ]
    },
    {
      "cell_type": "code",
      "execution_count": 19,
      "id": "22a36671",
      "metadata": {
        "colab": {
          "base_uri": "https://localhost:8080/",
          "height": 443
        },
        "id": "22a36671",
        "outputId": "f0b98300-e756-475e-ea23-6a52b7e59cef"
      },
      "outputs": [
        {
          "data": {
            "text/html": [
              "<div>\n",
              "<style scoped>\n",
              "    .dataframe tbody tr th:only-of-type {\n",
              "        vertical-align: middle;\n",
              "    }\n",
              "\n",
              "    .dataframe tbody tr th {\n",
              "        vertical-align: top;\n",
              "    }\n",
              "\n",
              "    .dataframe thead th {\n",
              "        text-align: right;\n",
              "    }\n",
              "</style>\n",
              "<table border=\"1\" class=\"dataframe\">\n",
              "  <thead>\n",
              "    <tr style=\"text-align: right;\">\n",
              "      <th></th>\n",
              "      <th>VendorID</th>\n",
              "      <th>tpep_pickup_datetime</th>\n",
              "      <th>tpep_dropoff_datetime</th>\n",
              "      <th>passenger_count</th>\n",
              "      <th>trip_distance</th>\n",
              "      <th>RatecodeID</th>\n",
              "      <th>store_and_fwd_flag</th>\n",
              "      <th>PULocationID</th>\n",
              "      <th>DOLocationID</th>\n",
              "      <th>payment_type</th>\n",
              "      <th>fare_amount</th>\n",
              "      <th>extra</th>\n",
              "      <th>mta_tax</th>\n",
              "      <th>tip_amount</th>\n",
              "      <th>tolls_amount</th>\n",
              "      <th>improvement_surcharge</th>\n",
              "      <th>total_amount</th>\n",
              "      <th>congestion_surcharge</th>\n",
              "      <th>Airport_fee</th>\n",
              "    </tr>\n",
              "  </thead>\n",
              "  <tbody>\n",
              "    <tr>\n",
              "      <th>0</th>\n",
              "      <td>1</td>\n",
              "      <td>2023-02-01 00:32:53</td>\n",
              "      <td>2023-02-01 00:34:34</td>\n",
              "      <td>2.0</td>\n",
              "      <td>0.30</td>\n",
              "      <td>1.0</td>\n",
              "      <td>N</td>\n",
              "      <td>142</td>\n",
              "      <td>163</td>\n",
              "      <td>2</td>\n",
              "      <td>4.40</td>\n",
              "      <td>3.50</td>\n",
              "      <td>0.5</td>\n",
              "      <td>0.00</td>\n",
              "      <td>0.0</td>\n",
              "      <td>1.0</td>\n",
              "      <td>9.40</td>\n",
              "      <td>2.5</td>\n",
              "      <td>0.00</td>\n",
              "    </tr>\n",
              "    <tr>\n",
              "      <th>1</th>\n",
              "      <td>2</td>\n",
              "      <td>2023-02-01 00:35:16</td>\n",
              "      <td>2023-02-01 00:35:30</td>\n",
              "      <td>1.0</td>\n",
              "      <td>0.00</td>\n",
              "      <td>1.0</td>\n",
              "      <td>N</td>\n",
              "      <td>71</td>\n",
              "      <td>71</td>\n",
              "      <td>4</td>\n",
              "      <td>-3.00</td>\n",
              "      <td>-1.00</td>\n",
              "      <td>-0.5</td>\n",
              "      <td>0.00</td>\n",
              "      <td>0.0</td>\n",
              "      <td>-1.0</td>\n",
              "      <td>-5.50</td>\n",
              "      <td>0.0</td>\n",
              "      <td>0.00</td>\n",
              "    </tr>\n",
              "    <tr>\n",
              "      <th>2</th>\n",
              "      <td>2</td>\n",
              "      <td>2023-02-01 00:35:16</td>\n",
              "      <td>2023-02-01 00:35:30</td>\n",
              "      <td>1.0</td>\n",
              "      <td>0.00</td>\n",
              "      <td>1.0</td>\n",
              "      <td>N</td>\n",
              "      <td>71</td>\n",
              "      <td>71</td>\n",
              "      <td>4</td>\n",
              "      <td>3.00</td>\n",
              "      <td>1.00</td>\n",
              "      <td>0.5</td>\n",
              "      <td>0.00</td>\n",
              "      <td>0.0</td>\n",
              "      <td>1.0</td>\n",
              "      <td>5.50</td>\n",
              "      <td>0.0</td>\n",
              "      <td>0.00</td>\n",
              "    </tr>\n",
              "    <tr>\n",
              "      <th>3</th>\n",
              "      <td>1</td>\n",
              "      <td>2023-02-01 00:29:33</td>\n",
              "      <td>2023-02-01 01:01:38</td>\n",
              "      <td>0.0</td>\n",
              "      <td>18.80</td>\n",
              "      <td>1.0</td>\n",
              "      <td>N</td>\n",
              "      <td>132</td>\n",
              "      <td>26</td>\n",
              "      <td>1</td>\n",
              "      <td>70.90</td>\n",
              "      <td>2.25</td>\n",
              "      <td>0.5</td>\n",
              "      <td>0.00</td>\n",
              "      <td>0.0</td>\n",
              "      <td>1.0</td>\n",
              "      <td>74.65</td>\n",
              "      <td>0.0</td>\n",
              "      <td>1.25</td>\n",
              "    </tr>\n",
              "    <tr>\n",
              "      <th>4</th>\n",
              "      <td>2</td>\n",
              "      <td>2023-02-01 00:12:28</td>\n",
              "      <td>2023-02-01 00:25:46</td>\n",
              "      <td>1.0</td>\n",
              "      <td>3.22</td>\n",
              "      <td>1.0</td>\n",
              "      <td>N</td>\n",
              "      <td>161</td>\n",
              "      <td>145</td>\n",
              "      <td>1</td>\n",
              "      <td>17.00</td>\n",
              "      <td>1.00</td>\n",
              "      <td>0.5</td>\n",
              "      <td>3.30</td>\n",
              "      <td>0.0</td>\n",
              "      <td>1.0</td>\n",
              "      <td>25.30</td>\n",
              "      <td>2.5</td>\n",
              "      <td>0.00</td>\n",
              "    </tr>\n",
              "    <tr>\n",
              "      <th>...</th>\n",
              "      <td>...</td>\n",
              "      <td>...</td>\n",
              "      <td>...</td>\n",
              "      <td>...</td>\n",
              "      <td>...</td>\n",
              "      <td>...</td>\n",
              "      <td>...</td>\n",
              "      <td>...</td>\n",
              "      <td>...</td>\n",
              "      <td>...</td>\n",
              "      <td>...</td>\n",
              "      <td>...</td>\n",
              "      <td>...</td>\n",
              "      <td>...</td>\n",
              "      <td>...</td>\n",
              "      <td>...</td>\n",
              "      <td>...</td>\n",
              "      <td>...</td>\n",
              "      <td>...</td>\n",
              "    </tr>\n",
              "    <tr>\n",
              "      <th>2913950</th>\n",
              "      <td>2</td>\n",
              "      <td>2023-02-28 23:46:00</td>\n",
              "      <td>2023-03-01 00:05:00</td>\n",
              "      <td>NaN</td>\n",
              "      <td>4.65</td>\n",
              "      <td>NaN</td>\n",
              "      <td>None</td>\n",
              "      <td>249</td>\n",
              "      <td>140</td>\n",
              "      <td>0</td>\n",
              "      <td>20.22</td>\n",
              "      <td>0.00</td>\n",
              "      <td>0.5</td>\n",
              "      <td>4.84</td>\n",
              "      <td>0.0</td>\n",
              "      <td>1.0</td>\n",
              "      <td>29.06</td>\n",
              "      <td>NaN</td>\n",
              "      <td>NaN</td>\n",
              "    </tr>\n",
              "    <tr>\n",
              "      <th>2913951</th>\n",
              "      <td>2</td>\n",
              "      <td>2023-02-28 23:26:02</td>\n",
              "      <td>2023-02-28 23:37:10</td>\n",
              "      <td>NaN</td>\n",
              "      <td>2.47</td>\n",
              "      <td>NaN</td>\n",
              "      <td>None</td>\n",
              "      <td>186</td>\n",
              "      <td>79</td>\n",
              "      <td>0</td>\n",
              "      <td>13.66</td>\n",
              "      <td>0.00</td>\n",
              "      <td>0.5</td>\n",
              "      <td>2.65</td>\n",
              "      <td>0.0</td>\n",
              "      <td>1.0</td>\n",
              "      <td>20.31</td>\n",
              "      <td>NaN</td>\n",
              "      <td>NaN</td>\n",
              "    </tr>\n",
              "    <tr>\n",
              "      <th>2913952</th>\n",
              "      <td>2</td>\n",
              "      <td>2023-02-28 23:24:00</td>\n",
              "      <td>2023-02-28 23:38:00</td>\n",
              "      <td>NaN</td>\n",
              "      <td>3.49</td>\n",
              "      <td>NaN</td>\n",
              "      <td>None</td>\n",
              "      <td>158</td>\n",
              "      <td>143</td>\n",
              "      <td>0</td>\n",
              "      <td>17.64</td>\n",
              "      <td>0.00</td>\n",
              "      <td>0.5</td>\n",
              "      <td>0.00</td>\n",
              "      <td>0.0</td>\n",
              "      <td>1.0</td>\n",
              "      <td>21.64</td>\n",
              "      <td>NaN</td>\n",
              "      <td>NaN</td>\n",
              "    </tr>\n",
              "    <tr>\n",
              "      <th>2913953</th>\n",
              "      <td>2</td>\n",
              "      <td>2023-02-28 23:03:00</td>\n",
              "      <td>2023-02-28 23:10:00</td>\n",
              "      <td>NaN</td>\n",
              "      <td>2.13</td>\n",
              "      <td>NaN</td>\n",
              "      <td>None</td>\n",
              "      <td>79</td>\n",
              "      <td>162</td>\n",
              "      <td>0</td>\n",
              "      <td>13.56</td>\n",
              "      <td>0.00</td>\n",
              "      <td>0.5</td>\n",
              "      <td>2.63</td>\n",
              "      <td>0.0</td>\n",
              "      <td>1.0</td>\n",
              "      <td>20.19</td>\n",
              "      <td>NaN</td>\n",
              "      <td>NaN</td>\n",
              "    </tr>\n",
              "    <tr>\n",
              "      <th>2913954</th>\n",
              "      <td>2</td>\n",
              "      <td>2023-02-28 23:03:03</td>\n",
              "      <td>2023-02-28 23:12:51</td>\n",
              "      <td>NaN</td>\n",
              "      <td>2.28</td>\n",
              "      <td>NaN</td>\n",
              "      <td>None</td>\n",
              "      <td>161</td>\n",
              "      <td>140</td>\n",
              "      <td>0</td>\n",
              "      <td>14.89</td>\n",
              "      <td>0.00</td>\n",
              "      <td>0.5</td>\n",
              "      <td>3.78</td>\n",
              "      <td>0.0</td>\n",
              "      <td>1.0</td>\n",
              "      <td>22.67</td>\n",
              "      <td>NaN</td>\n",
              "      <td>NaN</td>\n",
              "    </tr>\n",
              "  </tbody>\n",
              "</table>\n",
              "<p>2913955 rows × 19 columns</p>\n",
              "</div>"
            ],
            "text/plain": [
              "         VendorID tpep_pickup_datetime tpep_dropoff_datetime  passenger_count  \\\n",
              "0               1  2023-02-01 00:32:53   2023-02-01 00:34:34              2.0   \n",
              "1               2  2023-02-01 00:35:16   2023-02-01 00:35:30              1.0   \n",
              "2               2  2023-02-01 00:35:16   2023-02-01 00:35:30              1.0   \n",
              "3               1  2023-02-01 00:29:33   2023-02-01 01:01:38              0.0   \n",
              "4               2  2023-02-01 00:12:28   2023-02-01 00:25:46              1.0   \n",
              "...           ...                  ...                   ...              ...   \n",
              "2913950         2  2023-02-28 23:46:00   2023-03-01 00:05:00              NaN   \n",
              "2913951         2  2023-02-28 23:26:02   2023-02-28 23:37:10              NaN   \n",
              "2913952         2  2023-02-28 23:24:00   2023-02-28 23:38:00              NaN   \n",
              "2913953         2  2023-02-28 23:03:00   2023-02-28 23:10:00              NaN   \n",
              "2913954         2  2023-02-28 23:03:03   2023-02-28 23:12:51              NaN   \n",
              "\n",
              "         trip_distance  RatecodeID store_and_fwd_flag  PULocationID  \\\n",
              "0                 0.30         1.0                  N           142   \n",
              "1                 0.00         1.0                  N            71   \n",
              "2                 0.00         1.0                  N            71   \n",
              "3                18.80         1.0                  N           132   \n",
              "4                 3.22         1.0                  N           161   \n",
              "...                ...         ...                ...           ...   \n",
              "2913950           4.65         NaN               None           249   \n",
              "2913951           2.47         NaN               None           186   \n",
              "2913952           3.49         NaN               None           158   \n",
              "2913953           2.13         NaN               None            79   \n",
              "2913954           2.28         NaN               None           161   \n",
              "\n",
              "         DOLocationID  payment_type  fare_amount  extra  mta_tax  tip_amount  \\\n",
              "0                 163             2         4.40   3.50      0.5        0.00   \n",
              "1                  71             4        -3.00  -1.00     -0.5        0.00   \n",
              "2                  71             4         3.00   1.00      0.5        0.00   \n",
              "3                  26             1        70.90   2.25      0.5        0.00   \n",
              "4                 145             1        17.00   1.00      0.5        3.30   \n",
              "...               ...           ...          ...    ...      ...         ...   \n",
              "2913950           140             0        20.22   0.00      0.5        4.84   \n",
              "2913951            79             0        13.66   0.00      0.5        2.65   \n",
              "2913952           143             0        17.64   0.00      0.5        0.00   \n",
              "2913953           162             0        13.56   0.00      0.5        2.63   \n",
              "2913954           140             0        14.89   0.00      0.5        3.78   \n",
              "\n",
              "         tolls_amount  improvement_surcharge  total_amount  \\\n",
              "0                 0.0                    1.0          9.40   \n",
              "1                 0.0                   -1.0         -5.50   \n",
              "2                 0.0                    1.0          5.50   \n",
              "3                 0.0                    1.0         74.65   \n",
              "4                 0.0                    1.0         25.30   \n",
              "...               ...                    ...           ...   \n",
              "2913950           0.0                    1.0         29.06   \n",
              "2913951           0.0                    1.0         20.31   \n",
              "2913952           0.0                    1.0         21.64   \n",
              "2913953           0.0                    1.0         20.19   \n",
              "2913954           0.0                    1.0         22.67   \n",
              "\n",
              "         congestion_surcharge  Airport_fee  \n",
              "0                         2.5         0.00  \n",
              "1                         0.0         0.00  \n",
              "2                         0.0         0.00  \n",
              "3                         0.0         1.25  \n",
              "4                         2.5         0.00  \n",
              "...                       ...          ...  \n",
              "2913950                   NaN          NaN  \n",
              "2913951                   NaN          NaN  \n",
              "2913952                   NaN          NaN  \n",
              "2913953                   NaN          NaN  \n",
              "2913954                   NaN          NaN  \n",
              "\n",
              "[2913955 rows x 19 columns]"
            ]
          },
          "execution_count": 19,
          "metadata": {},
          "output_type": "execute_result"
        }
      ],
      "source": [
        "dfv"
      ]
    },
    {
      "cell_type": "code",
      "execution_count": 20,
      "id": "f4e967aa-4d06-422c-acc2-01bccc5024a2",
      "metadata": {
        "id": "f4e967aa-4d06-422c-acc2-01bccc5024a2"
      },
      "outputs": [],
      "source": [
        "dfv.tpep_dropoff_datetime = pd.to_datetime(dfv.tpep_dropoff_datetime)\n",
        "dfv.tpep_pickup_datetime\t= pd.to_datetime(dfv.tpep_pickup_datetime)"
      ]
    },
    {
      "cell_type": "code",
      "execution_count": 21,
      "id": "a855a055-fc8b-4071-b9ff-61a6716b57b6",
      "metadata": {
        "id": "a855a055-fc8b-4071-b9ff-61a6716b57b6"
      },
      "outputs": [],
      "source": [
        "dfv[\"duration\"] = dfv.tpep_dropoff_datetime - dfv.tpep_pickup_datetime"
      ]
    },
    {
      "cell_type": "code",
      "execution_count": 22,
      "id": "f5239476-a129-497c-bad1-95d91d796a3e",
      "metadata": {
        "id": "f5239476-a129-497c-bad1-95d91d796a3e"
      },
      "outputs": [],
      "source": [
        "dfv[\"duration\"] = dfv[\"duration\"].apply(lambda x: x.total_seconds()/60)"
      ]
    },
    {
      "cell_type": "code",
      "execution_count": 23,
      "id": "4Nz-aVxwer6j",
      "metadata": {
        "id": "4Nz-aVxwer6j"
      },
      "outputs": [],
      "source": [
        "dfv = dfv[(dfv.duration >=1) & (dfv.duration <=60)]\n",
        "\n",
        "dfv = dfv.fillna(-1)"
      ]
    },
    {
      "cell_type": "code",
      "execution_count": 24,
      "id": "14160b8f",
      "metadata": {
        "id": "14160b8f"
      },
      "outputs": [],
      "source": [
        "dfv[categorical] = dfv[categorical].astype(str)"
      ]
    },
    {
      "cell_type": "code",
      "execution_count": 25,
      "id": "225b3585",
      "metadata": {
        "colab": {
          "base_uri": "https://localhost:8080/"
        },
        "id": "225b3585",
        "outputId": "806b72b3-ba64-4c49-d55b-c5b6d8ac305a"
      },
      "outputs": [
        {
          "data": {
            "text/plain": [
              "2855951"
            ]
          },
          "execution_count": 25,
          "metadata": {},
          "output_type": "execute_result"
        }
      ],
      "source": [
        "val_dicts = dfv[categorical].to_dict(orient='records')\n",
        "len(val_dicts)"
      ]
    },
    {
      "cell_type": "code",
      "execution_count": 26,
      "id": "d154edc9",
      "metadata": {
        "id": "d154edc9"
      },
      "outputs": [],
      "source": [
        "X_val = dv.transform(val_dicts)\n",
        "y_val = dfv.duration.values"
      ]
    },
    {
      "cell_type": "code",
      "execution_count": 27,
      "id": "8CP29Iy0djo-",
      "metadata": {
        "colab": {
          "base_uri": "https://localhost:8080/"
        },
        "id": "8CP29Iy0djo-",
        "outputId": "22383646-1a73-4b48-f1f7-7017c04c9e94"
      },
      "outputs": [
        {
          "data": {
            "text/plain": [
              "(2855951, 515)"
            ]
          },
          "execution_count": 27,
          "metadata": {},
          "output_type": "execute_result"
        }
      ],
      "source": [
        "X_val.shape"
      ]
    },
    {
      "cell_type": "code",
      "execution_count": 28,
      "id": "ccef28ac",
      "metadata": {
        "id": "ccef28ac"
      },
      "outputs": [],
      "source": [
        "import pickle\n",
        "\n",
        "# Load the model from the file\n",
        "with open('lr_model.pkl', 'rb') as file:\n",
        "    loaded_model = pickle.load(file)"
      ]
    },
    {
      "cell_type": "code",
      "execution_count": 29,
      "id": "dd303fef",
      "metadata": {
        "id": "dd303fef"
      },
      "outputs": [],
      "source": [
        "# y_pred = loaded_model.predict(X_val)\n",
        "y_pred = lr.predict(X_val)"
      ]
    },
    {
      "cell_type": "code",
      "execution_count": 31,
      "id": "7644ee89",
      "metadata": {
        "colab": {
          "base_uri": "https://localhost:8080/"
        },
        "id": "7644ee89",
        "outputId": "d48f78a2-0d99-4457-f9a8-a59a2ddd3a61"
      },
      "outputs": [
        {
          "name": "stdout",
          "output_type": "stream",
          "text": [
            "Val RMSE: 7.811816520976144\n"
          ]
        }
      ],
      "source": [
        "val_rmse = np.sqrt(mean_squared_error(y_val, y_pred))\n",
        "print(f'Val RMSE: {val_rmse}')"
      ]
    },
    {
      "cell_type": "markdown",
      "id": "YB6dQdbFCcfM",
      "metadata": {
        "id": "YB6dQdbFCcfM"
      },
      "source": [
        "**Answer** - Val RMSE: 7.81"
      ]
    },
    {
      "cell_type": "code",
      "execution_count": null,
      "id": "bf636e7c",
      "metadata": {
        "id": "bf636e7c"
      },
      "outputs": [],
      "source": []
    },
    {
      "cell_type": "code",
      "execution_count": null,
      "id": "e883776f",
      "metadata": {
        "id": "e883776f"
      },
      "outputs": [],
      "source": []
    }
  ],
  "metadata": {
    "colab": {
      "provenance": []
    },
    "kernelspec": {
      "display_name": "mlops",
      "language": "python",
      "name": "python3"
    },
    "language_info": {
      "codemirror_mode": {
        "name": "ipython",
        "version": 3
      },
      "file_extension": ".py",
      "mimetype": "text/x-python",
      "name": "python",
      "nbconvert_exporter": "python",
      "pygments_lexer": "ipython3",
      "version": "3.12.9"
    }
  },
  "nbformat": 4,
  "nbformat_minor": 5
}
